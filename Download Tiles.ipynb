{
 "cells": [
  {
   "cell_type": "code",
   "execution_count": 88,
   "metadata": {
    "collapsed": false
   },
   "outputs": [
    {
     "name": "stdout",
     "output_type": "stream",
     "text": [
      "tiles downloaded\n"
     ]
    }
   ],
   "source": [
    "# given the location of the tm.json metadata file, download the tiles from google storage\n",
    "# mark egge, 23 june 2016, CREATE Lab\n",
    "\n",
    "# user defined parameters:\n",
    "tmDotJsonUrl = 'http://storage.googleapis.com/earthengine-timelapse/evi_animation_test_megge_001/tm.json'\n",
    "\n",
    "offset = 4 # time machine uses only every 4th tile. Set to zero for normal tiling applications\n",
    "\n",
    "levelLimit = 7 # -1 be default. only downloads first 7 zoom levels\n",
    "\n",
    "# script code:\n",
    "import json\n",
    "import urllib, urllib2\n",
    "import os\n",
    "import string\n",
    "\n",
    "baseUrl = tmDotJsonUrl[:string.rfind(tmDotJsonUrl, '/')]\n",
    "\n",
    "# list of one-off files:\n",
    "files = ['ajax_includes.js', 'tm.json', '1068x600/r.json'] # misc non-tile files to download\n",
    "\n",
    "# get tile directory from tm.json\n",
    "response = urllib2.urlopen(tmDotJsonUrl)\n",
    "tmDotJsonText = response.read()\n",
    "tmDotJson = json.loads(tmDotJsonText)\n",
    "\n",
    "tileDirectory = tmDotJson['datasets'][0]['name']\n",
    "\n",
    "# get levels info from r.json\n",
    "response = urllib2.urlopen(baseUrl + '/' + tileDirectory + '/' + 'r.json')\n",
    "rDotJsonText = response.read()\n",
    "rDotJson = json.loads(rDotJsonText)\n",
    "\n",
    "levels = rDotJson[\"level_info\"]\n",
    "\n",
    "# prune levels, if need be\n",
    "if levelLimit >= 0 and levelLimit < len(levels):\n",
    "    levels = levels[0:levelLimit]\n",
    "\n",
    "file = urllib.URLopener()\n",
    "\n",
    "def makeDirectory(directory):\n",
    "    if not os.path.exists(directory):\n",
    "        try:\n",
    "            os.makedirs(directory)    \n",
    "        except:\n",
    "            print 'error making directory: ' + directory\n",
    "    \n",
    "def downloadFile(filePath):\n",
    "    if filePath[0] == '/':\n",
    "        filePath = filePath[1:] # strip leading slash, if any\n",
    "        \n",
    "    parts = string.split(filePath, '/')\n",
    "    if len(parts) > 1:\n",
    "        makeDirectory(filePath[:-len(parts[-1])])\n",
    "        \n",
    "    fileUrl = baseUrl + '/' + filePath\n",
    "    \n",
    "    if not os.path.isfile(filePath):\n",
    "        try:\n",
    "            file.retrieve(fileUrl, filePath)\n",
    "        except IOError:\n",
    "            print 'error downloading ' + fileUrl + ' to ' + filePath\n",
    "\n",
    "# download the one-offs\n",
    "for f in files:\n",
    "    downloadFile(f) \n",
    "\n",
    "# download tiles\n",
    "for x in range(len(levels)): \n",
    "    column = 0\n",
    "    while column < levels[x]['cols']:\n",
    "        row = 0\n",
    "        #print rowcol[x]['cols']\n",
    "        while row < levels[x]['rows']:\n",
    "            fileName = tileDirectory + '/' + str(x) + '/' + str(row) + '/' + str(column) + '.mp4'\n",
    "            downloadFile(fileName)\n",
    "            \n",
    "            row = row + offset\n",
    "        column = column + offset\n",
    "        \n",
    "print 'tiles downloaded'"
   ]
  },
  {
   "cell_type": "code",
   "execution_count": null,
   "metadata": {
    "collapsed": true
   },
   "outputs": [],
   "source": []
  }
 ],
 "metadata": {
  "kernelspec": {
   "display_name": "Python 2",
   "language": "python",
   "name": "python2"
  },
  "language_info": {
   "codemirror_mode": {
    "name": "ipython",
    "version": 2
   },
   "file_extension": ".py",
   "mimetype": "text/x-python",
   "name": "python",
   "nbconvert_exporter": "python",
   "pygments_lexer": "ipython2",
   "version": "2.7.11"
  }
 },
 "nbformat": 4,
 "nbformat_minor": 0
}
