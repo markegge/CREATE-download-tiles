{
 "cells": [
  {
   "cell_type": "code",
   "execution_count": 62,
   "metadata": {
    "collapsed": false,
    "scrolled": true
   },
   "outputs": [
    {
     "name": "stdout",
     "output_type": "stream",
     "text": [
      "tiles downloaded\n"
     ]
    }
   ],
   "source": [
    "# given a base directory, tile subdirectory, and dictionary of level dimensions, download all tiles\n",
    "# useful for retrieving XYZ tiles when directory listing is not allowed\n",
    "# mark egge, 23 june 2016\n",
    "\n",
    "# user defined parameters\n",
    "baseUrl = 'http://storage.googleapis.com/earthengine-timelapse/evi_animation_test_megge_001' \n",
    "\n",
    "tileDirectory = '1068x600'\n",
    "\n",
    "offset = 4 # time machine uses only every 4th tile. Set to zero for normal tiling applications\n",
    "\n",
    "# list of one-off files:\n",
    "files = ['ajax_includes.js', 'tm.json', '1068x600/r.json'] # misc non-tile files to download\n",
    "\n",
    "# [ { level 0 }, { level 1}, etc. ] - level dimensions\n",
    "levels = [ {\"cols\":1,\"rows\":1},{\"cols\":1,\"rows\":5},{\"cols\":5,\"rows\":13},{\"cols\":13,\"rows\":25},\\\n",
    "           {\"cols\":29,\"rows\":53},{\"cols\":57,\"rows\":105},{\"cols\":117,\"rows\":209} ]\n",
    "\n",
    "\n",
    "# nothing below should need to change...\n",
    "import urllib\n",
    "import os\n",
    "import string\n",
    "\n",
    "file = urllib.URLopener()\n",
    "\n",
    "if baseUrl[-1] == '/':\n",
    "    baseUrl = baseUrl[:-1] # strip trailing slash, if any\n",
    "\n",
    "if tileDirectory == '/':\n",
    "    tileDirectory = ''\n",
    "elif tileDirectory[0] == '/':\n",
    "    tileDirectory = tileDirectory[1:]\n",
    "if not if tileDirectory[-1] == '/'\n",
    "def makeDirectory(directory):\n",
    "    if not os.path.exists(directory):\n",
    "        try:\n",
    "            os.makedirs(directory)    \n",
    "        except:\n",
    "            print 'error making directory: ' + directory\n",
    "    \n",
    "def downloadFile(filePath):\n",
    "    if filePath[0] == '/':\n",
    "        filePath = filePath[1:] # strip leading slash, if any\n",
    "        \n",
    "    parts = string.split(filePath, '/')\n",
    "    if len(parts) > 1:\n",
    "        makeDirectory(filePath[:-len(parts[-1])])\n",
    "        \n",
    "    fileUrl = baseUrl + '/' + filePath\n",
    "    \n",
    "    if not os.path.isfile(filePath):\n",
    "        try:\n",
    "            file.retrieve(fileUrl, filePath)\n",
    "        except IOError:\n",
    "            print 'error downloading ' + fileUrl + ' to ' + filePath\n",
    "\n",
    "# download the one-offs\n",
    "for f in files:\n",
    "    downloadFile(f) \n",
    "\n",
    "# download tiles\n",
    "for x in range(len(levels)): \n",
    "    column = 0\n",
    "    while column < levels[x]['cols']:\n",
    "        row = 0\n",
    "        #print rowcol[x]['cols']\n",
    "        while row < levels[x]['rows']:\n",
    "            fileName = tileDirectory + '/' + str(x) + '/' + str(row) + '/' + str(column) + '.mp4'\n",
    "            downloadFile(fileName)\n",
    "            \n",
    "            row = row + offset\n",
    "        column = column + offset\n",
    "        \n",
    "print 'tiles downloaded'"
   ]
  }
 ],
 "metadata": {
  "kernelspec": {
   "display_name": "Python 2",
   "language": "python",
   "name": "python2"
  },
  "language_info": {
   "codemirror_mode": {
    "name": "ipython",
    "version": 2
   },
   "file_extension": ".py",
   "mimetype": "text/x-python",
   "name": "python",
   "nbconvert_exporter": "python",
   "pygments_lexer": "ipython2",
   "version": "2.7.11"
  }
 },
 "nbformat": 4,
 "nbformat_minor": 0
}
